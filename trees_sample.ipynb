{
  "nbformat": 4,
  "nbformat_minor": 0,
  "metadata": {
    "colab": {
      "name": "trees_sample.ipynb",
      "provenance": [],
      "collapsed_sections": [],
      "authorship_tag": "ABX9TyMZBtvcstuY27OkoGnWasos",
      "include_colab_link": true
    },
    "kernelspec": {
      "name": "python3",
      "display_name": "Python 3"
    }
  },
  "cells": [
    {
      "cell_type": "markdown",
      "metadata": {
        "id": "view-in-github",
        "colab_type": "text"
      },
      "source": [
        "<a href=\"https://colab.research.google.com/github/annefinger/data_science/blob/master/trees_sample.ipynb\" target=\"_parent\"><img src=\"https://colab.research.google.com/assets/colab-badge.svg\" alt=\"Open In Colab\"/></a>"
      ]
    },
    {
      "cell_type": "markdown",
      "metadata": {
        "id": "0SJibrzQksL7"
      },
      "source": [
        "## DataFrames a partir de Dicionários\n",
        "\n",
        "Uma das estruturas básicas do Python é o Dicionário. É muito conveniente informarmos nossos dados em uma variável do tipo 'dict', pois sua conversão em *DataFrame* é muito simples e direta.\n"
      ]
    },
    {
      "cell_type": "code",
      "metadata": {
        "id": "CT--n948lZ4l"
      },
      "source": [
        "#importar pandas\n",
        "import pandas as pd"
      ],
      "execution_count": 1,
      "outputs": []
    },
    {
      "cell_type": "code",
      "metadata": {
        "id": "kT2eJ7LglnMy"
      },
      "source": [
        "#criar Dicionário\n",
        "dados = { 'espécie': ['plátano', 'araucária', 'eucalipto', 'pinus'],\n",
        "          'altura (m)': ['18', '25', '28', '22'],\n",
        "          'diâmetro (cm)': ['30', '40', '35', '36'],\n",
        "          'ataque por pragas': [ True, True, False, False] }"
      ],
      "execution_count": 3,
      "outputs": []
    },
    {
      "cell_type": "code",
      "metadata": {
        "id": "dr9awJKboMXs"
      },
      "source": [
        "#criar DataFrame\n",
        "df = pd.DataFrame (dados)"
      ],
      "execution_count": 5,
      "outputs": []
    },
    {
      "cell_type": "code",
      "metadata": {
        "colab": {
          "base_uri": "https://localhost:8080/",
          "height": 173
        },
        "id": "0xdvrKagouXP",
        "outputId": "1414923d-9bd5-46e5-c83f-3a0bb5b25158"
      },
      "source": [
        "#visualizar DataFrame\n",
        "df"
      ],
      "execution_count": 7,
      "outputs": [
        {
          "output_type": "execute_result",
          "data": {
            "text/html": [
              "<div>\n",
              "<style scoped>\n",
              "    .dataframe tbody tr th:only-of-type {\n",
              "        vertical-align: middle;\n",
              "    }\n",
              "\n",
              "    .dataframe tbody tr th {\n",
              "        vertical-align: top;\n",
              "    }\n",
              "\n",
              "    .dataframe thead th {\n",
              "        text-align: right;\n",
              "    }\n",
              "</style>\n",
              "<table border=\"1\" class=\"dataframe\">\n",
              "  <thead>\n",
              "    <tr style=\"text-align: right;\">\n",
              "      <th></th>\n",
              "      <th>espécie</th>\n",
              "      <th>altura (m)</th>\n",
              "      <th>diâmetro (cm)</th>\n",
              "      <th>ataque por pragas</th>\n",
              "    </tr>\n",
              "  </thead>\n",
              "  <tbody>\n",
              "    <tr>\n",
              "      <th>0</th>\n",
              "      <td>plátano</td>\n",
              "      <td>18</td>\n",
              "      <td>30</td>\n",
              "      <td>True</td>\n",
              "    </tr>\n",
              "    <tr>\n",
              "      <th>1</th>\n",
              "      <td>araucária</td>\n",
              "      <td>25</td>\n",
              "      <td>40</td>\n",
              "      <td>True</td>\n",
              "    </tr>\n",
              "    <tr>\n",
              "      <th>2</th>\n",
              "      <td>eucalipto</td>\n",
              "      <td>28</td>\n",
              "      <td>35</td>\n",
              "      <td>False</td>\n",
              "    </tr>\n",
              "    <tr>\n",
              "      <th>3</th>\n",
              "      <td>pinus</td>\n",
              "      <td>22</td>\n",
              "      <td>36</td>\n",
              "      <td>False</td>\n",
              "    </tr>\n",
              "  </tbody>\n",
              "</table>\n",
              "</div>"
            ],
            "text/plain": [
              "     espécie altura (m) diâmetro (cm)  ataque por pragas\n",
              "0    plátano         18            30               True\n",
              "1  araucária         25            40               True\n",
              "2  eucalipto         28            35              False\n",
              "3      pinus         22            36              False"
            ]
          },
          "metadata": {
            "tags": []
          },
          "execution_count": 7
        }
      ]
    },
    {
      "cell_type": "code",
      "metadata": {
        "id": "A9HBqdnPpAIu"
      },
      "source": [
        "#trocar ID do usuário\n",
        "id_usuario = [30, 150, 45, 17]"
      ],
      "execution_count": 10,
      "outputs": []
    },
    {
      "cell_type": "code",
      "metadata": {
        "id": "JFcaACJmpmvc"
      },
      "source": [
        "#associar ID à lista\n",
        "df.index = id_usuario"
      ],
      "execution_count": 11,
      "outputs": []
    },
    {
      "cell_type": "code",
      "metadata": {
        "colab": {
          "base_uri": "https://localhost:8080/",
          "height": 173
        },
        "id": "rCp141LqpweU",
        "outputId": "7753812f-4a10-4376-bb23-c7b471651895"
      },
      "source": [
        "#visualizar DataFrame\n",
        "display(df)"
      ],
      "execution_count": 12,
      "outputs": [
        {
          "output_type": "display_data",
          "data": {
            "text/html": [
              "<div>\n",
              "<style scoped>\n",
              "    .dataframe tbody tr th:only-of-type {\n",
              "        vertical-align: middle;\n",
              "    }\n",
              "\n",
              "    .dataframe tbody tr th {\n",
              "        vertical-align: top;\n",
              "    }\n",
              "\n",
              "    .dataframe thead th {\n",
              "        text-align: right;\n",
              "    }\n",
              "</style>\n",
              "<table border=\"1\" class=\"dataframe\">\n",
              "  <thead>\n",
              "    <tr style=\"text-align: right;\">\n",
              "      <th></th>\n",
              "      <th>espécie</th>\n",
              "      <th>altura (m)</th>\n",
              "      <th>diâmetro (cm)</th>\n",
              "      <th>ataque por pragas</th>\n",
              "    </tr>\n",
              "  </thead>\n",
              "  <tbody>\n",
              "    <tr>\n",
              "      <th>30</th>\n",
              "      <td>plátano</td>\n",
              "      <td>18</td>\n",
              "      <td>30</td>\n",
              "      <td>True</td>\n",
              "    </tr>\n",
              "    <tr>\n",
              "      <th>150</th>\n",
              "      <td>araucária</td>\n",
              "      <td>25</td>\n",
              "      <td>40</td>\n",
              "      <td>True</td>\n",
              "    </tr>\n",
              "    <tr>\n",
              "      <th>45</th>\n",
              "      <td>eucalipto</td>\n",
              "      <td>28</td>\n",
              "      <td>35</td>\n",
              "      <td>False</td>\n",
              "    </tr>\n",
              "    <tr>\n",
              "      <th>17</th>\n",
              "      <td>pinus</td>\n",
              "      <td>22</td>\n",
              "      <td>36</td>\n",
              "      <td>False</td>\n",
              "    </tr>\n",
              "  </tbody>\n",
              "</table>\n",
              "</div>"
            ],
            "text/plain": [
              "       espécie altura (m) diâmetro (cm)  ataque por pragas\n",
              "30     plátano         18            30               True\n",
              "150  araucária         25            40               True\n",
              "45   eucalipto         28            35              False\n",
              "17       pinus         22            36              False"
            ]
          },
          "metadata": {
            "tags": []
          }
        }
      ]
    },
    {
      "cell_type": "markdown",
      "metadata": {
        "id": "RnM8RwJsqE0S"
      },
      "source": [
        "## DataFrames a partir de Listas \n",
        "\n",
        "Listas também são estruturas muito usadas em Python, e não é incomum termos que criar *DataFrame* a partir destas.\n",
        "\n",
        "Para organizar nossas várias listas de um modo que seja fácil sua conversão em *DataFrame*, vou utilizar a função *built-in* `zip()`."
      ]
    },
    {
      "cell_type": "code",
      "metadata": {
        "colab": {
          "base_uri": "https://localhost:8080/",
          "height": 173
        },
        "id": "nZ4t6AMMqz6W",
        "outputId": "55a9b819-745f-4e44-e93a-bd647652ddfe"
      },
      "source": [
        "#listas\n",
        "\n",
        "dados = [['plátano', 18, 30, 'True'],\n",
        "         ['araucária', 25, 40, 'True'],\n",
        "         ['eucalipto', 28, 35, 'False'],\n",
        "         ['pinus', 22, 36, 'False']]\n",
        "\n",
        "#DataFrame\n",
        "\n",
        "df = pd.DataFrame (dados, columns = ['espécie', 'altura (m)', 'diâmetro (cm)', 'ataque por pragas'],\n",
        "                   index = [30, 150, 45, 17])\n",
        "df"
      ],
      "execution_count": 15,
      "outputs": [
        {
          "output_type": "execute_result",
          "data": {
            "text/html": [
              "<div>\n",
              "<style scoped>\n",
              "    .dataframe tbody tr th:only-of-type {\n",
              "        vertical-align: middle;\n",
              "    }\n",
              "\n",
              "    .dataframe tbody tr th {\n",
              "        vertical-align: top;\n",
              "    }\n",
              "\n",
              "    .dataframe thead th {\n",
              "        text-align: right;\n",
              "    }\n",
              "</style>\n",
              "<table border=\"1\" class=\"dataframe\">\n",
              "  <thead>\n",
              "    <tr style=\"text-align: right;\">\n",
              "      <th></th>\n",
              "      <th>espécie</th>\n",
              "      <th>altura (m)</th>\n",
              "      <th>diâmetro (cm)</th>\n",
              "      <th>ataque por pragas</th>\n",
              "    </tr>\n",
              "  </thead>\n",
              "  <tbody>\n",
              "    <tr>\n",
              "      <th>30</th>\n",
              "      <td>plátano</td>\n",
              "      <td>18</td>\n",
              "      <td>30</td>\n",
              "      <td>True</td>\n",
              "    </tr>\n",
              "    <tr>\n",
              "      <th>150</th>\n",
              "      <td>araucária</td>\n",
              "      <td>25</td>\n",
              "      <td>40</td>\n",
              "      <td>True</td>\n",
              "    </tr>\n",
              "    <tr>\n",
              "      <th>45</th>\n",
              "      <td>eucalipto</td>\n",
              "      <td>28</td>\n",
              "      <td>35</td>\n",
              "      <td>False</td>\n",
              "    </tr>\n",
              "    <tr>\n",
              "      <th>17</th>\n",
              "      <td>pinus</td>\n",
              "      <td>22</td>\n",
              "      <td>36</td>\n",
              "      <td>False</td>\n",
              "    </tr>\n",
              "  </tbody>\n",
              "</table>\n",
              "</div>"
            ],
            "text/plain": [
              "       espécie  altura (m)  diâmetro (cm) ataque por pragas\n",
              "30     plátano          18             30              True\n",
              "150  araucária          25             40              True\n",
              "45   eucalipto          28             35             False\n",
              "17       pinus          22             36             False"
            ]
          },
          "metadata": {
            "tags": []
          },
          "execution_count": 15
        }
      ]
    },
    {
      "cell_type": "code",
      "metadata": {
        "colab": {
          "base_uri": "https://localhost:8080/"
        },
        "id": "maulv1NR8s3i",
        "outputId": "251c646d-0fa7-4205-d078-f75af88a9bed"
      },
      "source": [
        "#selecionar pelo index\n",
        "\n",
        "df.loc[150]"
      ],
      "execution_count": 16,
      "outputs": [
        {
          "output_type": "execute_result",
          "data": {
            "text/plain": [
              "espécie              araucária\n",
              "altura (m)                  25\n",
              "diâmetro (cm)               40\n",
              "ataque por pragas         True\n",
              "Name: 150, dtype: object"
            ]
          },
          "metadata": {
            "tags": []
          },
          "execution_count": 16
        }
      ]
    },
    {
      "cell_type": "code",
      "metadata": {
        "colab": {
          "base_uri": "https://localhost:8080/",
          "height": 173
        },
        "id": "EEHlfkMl87Ev",
        "outputId": "ea5dce89-1435-43eb-cbc6-75ff5beec05a"
      },
      "source": [
        "#criar nova coluna\n",
        "\n",
        "df['mortas']=0\n",
        "df"
      ],
      "execution_count": 17,
      "outputs": [
        {
          "output_type": "execute_result",
          "data": {
            "text/html": [
              "<div>\n",
              "<style scoped>\n",
              "    .dataframe tbody tr th:only-of-type {\n",
              "        vertical-align: middle;\n",
              "    }\n",
              "\n",
              "    .dataframe tbody tr th {\n",
              "        vertical-align: top;\n",
              "    }\n",
              "\n",
              "    .dataframe thead th {\n",
              "        text-align: right;\n",
              "    }\n",
              "</style>\n",
              "<table border=\"1\" class=\"dataframe\">\n",
              "  <thead>\n",
              "    <tr style=\"text-align: right;\">\n",
              "      <th></th>\n",
              "      <th>espécie</th>\n",
              "      <th>altura (m)</th>\n",
              "      <th>diâmetro (cm)</th>\n",
              "      <th>ataque por pragas</th>\n",
              "      <th>mortas</th>\n",
              "    </tr>\n",
              "  </thead>\n",
              "  <tbody>\n",
              "    <tr>\n",
              "      <th>30</th>\n",
              "      <td>plátano</td>\n",
              "      <td>18</td>\n",
              "      <td>30</td>\n",
              "      <td>True</td>\n",
              "      <td>0</td>\n",
              "    </tr>\n",
              "    <tr>\n",
              "      <th>150</th>\n",
              "      <td>araucária</td>\n",
              "      <td>25</td>\n",
              "      <td>40</td>\n",
              "      <td>True</td>\n",
              "      <td>0</td>\n",
              "    </tr>\n",
              "    <tr>\n",
              "      <th>45</th>\n",
              "      <td>eucalipto</td>\n",
              "      <td>28</td>\n",
              "      <td>35</td>\n",
              "      <td>False</td>\n",
              "      <td>0</td>\n",
              "    </tr>\n",
              "    <tr>\n",
              "      <th>17</th>\n",
              "      <td>pinus</td>\n",
              "      <td>22</td>\n",
              "      <td>36</td>\n",
              "      <td>False</td>\n",
              "      <td>0</td>\n",
              "    </tr>\n",
              "  </tbody>\n",
              "</table>\n",
              "</div>"
            ],
            "text/plain": [
              "       espécie  altura (m)  diâmetro (cm) ataque por pragas  mortas\n",
              "30     plátano          18             30              True       0\n",
              "150  araucária          25             40              True       0\n",
              "45   eucalipto          28             35             False       0\n",
              "17       pinus          22             36             False       0"
            ]
          },
          "metadata": {
            "tags": []
          },
          "execution_count": 17
        }
      ]
    },
    {
      "cell_type": "markdown",
      "metadata": {
        "id": "Bx32qNFy9Y8O"
      },
      "source": [
        "##Modificar *index* e colunas\n",
        "\n",
        "As vezes, precisamos alterar o nome dos índices ou o *label* das colunas. Se você olhar na célula acima, veja que na esquerda do *DataFrame* o index de cada linha é representado por um número entre 0 e 3.\n",
        "\n",
        "É possível alterar esse atributo da variável acessando diretamente assim:"
      ]
    },
    {
      "cell_type": "code",
      "metadata": {
        "colab": {
          "base_uri": "https://localhost:8080/"
        },
        "id": "tuoYqM8e-DDg",
        "outputId": "13ef59a2-4d36-4273-c9f7-43429e0cadd2"
      },
      "source": [
        "df.index"
      ],
      "execution_count": 18,
      "outputs": [
        {
          "output_type": "execute_result",
          "data": {
            "text/plain": [
              "Int64Index([30, 150, 45, 17], dtype='int64')"
            ]
          },
          "metadata": {
            "tags": []
          },
          "execution_count": 18
        }
      ]
    },
    {
      "cell_type": "code",
      "metadata": {
        "colab": {
          "base_uri": "https://localhost:8080/",
          "height": 173
        },
        "id": "4z_7YypI-Ouy",
        "outputId": "ba0fe60b-d866-4961-c2e8-30576a7982c1"
      },
      "source": [
        "#alterar o index do df\n",
        "\n",
        "df.index = ['a', 'b', 'c', 'd']\n",
        "df"
      ],
      "execution_count": 19,
      "outputs": [
        {
          "output_type": "execute_result",
          "data": {
            "text/html": [
              "<div>\n",
              "<style scoped>\n",
              "    .dataframe tbody tr th:only-of-type {\n",
              "        vertical-align: middle;\n",
              "    }\n",
              "\n",
              "    .dataframe tbody tr th {\n",
              "        vertical-align: top;\n",
              "    }\n",
              "\n",
              "    .dataframe thead th {\n",
              "        text-align: right;\n",
              "    }\n",
              "</style>\n",
              "<table border=\"1\" class=\"dataframe\">\n",
              "  <thead>\n",
              "    <tr style=\"text-align: right;\">\n",
              "      <th></th>\n",
              "      <th>espécie</th>\n",
              "      <th>altura (m)</th>\n",
              "      <th>diâmetro (cm)</th>\n",
              "      <th>ataque por pragas</th>\n",
              "      <th>mortas</th>\n",
              "    </tr>\n",
              "  </thead>\n",
              "  <tbody>\n",
              "    <tr>\n",
              "      <th>a</th>\n",
              "      <td>plátano</td>\n",
              "      <td>18</td>\n",
              "      <td>30</td>\n",
              "      <td>True</td>\n",
              "      <td>0</td>\n",
              "    </tr>\n",
              "    <tr>\n",
              "      <th>b</th>\n",
              "      <td>araucária</td>\n",
              "      <td>25</td>\n",
              "      <td>40</td>\n",
              "      <td>True</td>\n",
              "      <td>0</td>\n",
              "    </tr>\n",
              "    <tr>\n",
              "      <th>c</th>\n",
              "      <td>eucalipto</td>\n",
              "      <td>28</td>\n",
              "      <td>35</td>\n",
              "      <td>False</td>\n",
              "      <td>0</td>\n",
              "    </tr>\n",
              "    <tr>\n",
              "      <th>d</th>\n",
              "      <td>pinus</td>\n",
              "      <td>22</td>\n",
              "      <td>36</td>\n",
              "      <td>False</td>\n",
              "      <td>0</td>\n",
              "    </tr>\n",
              "  </tbody>\n",
              "</table>\n",
              "</div>"
            ],
            "text/plain": [
              "     espécie  altura (m)  diâmetro (cm) ataque por pragas  mortas\n",
              "a    plátano          18             30              True       0\n",
              "b  araucária          25             40              True       0\n",
              "c  eucalipto          28             35             False       0\n",
              "d      pinus          22             36             False       0"
            ]
          },
          "metadata": {
            "tags": []
          },
          "execution_count": 19
        }
      ]
    },
    {
      "cell_type": "markdown",
      "metadata": {
        "id": "GTZ8oh6T-nFH"
      },
      "source": [
        "Da mesma maneira, se eu precisar alterar o nome das colunas, posso alterar diretamente no atributo da variável."
      ]
    },
    {
      "cell_type": "code",
      "metadata": {
        "colab": {
          "base_uri": "https://localhost:8080/",
          "height": 173
        },
        "id": "VxqLT26n-x6M",
        "outputId": "0c86b983-88db-479d-ac43-97e83cab27bd"
      },
      "source": [
        "#alterar o labels das colunas\n",
        "\n",
        "df.columns = ['nome comum', 'altura (m)', 'diâmetro (cm)', 'ataque por pragas', 'mortas']\n",
        "df"
      ],
      "execution_count": 20,
      "outputs": [
        {
          "output_type": "execute_result",
          "data": {
            "text/html": [
              "<div>\n",
              "<style scoped>\n",
              "    .dataframe tbody tr th:only-of-type {\n",
              "        vertical-align: middle;\n",
              "    }\n",
              "\n",
              "    .dataframe tbody tr th {\n",
              "        vertical-align: top;\n",
              "    }\n",
              "\n",
              "    .dataframe thead th {\n",
              "        text-align: right;\n",
              "    }\n",
              "</style>\n",
              "<table border=\"1\" class=\"dataframe\">\n",
              "  <thead>\n",
              "    <tr style=\"text-align: right;\">\n",
              "      <th></th>\n",
              "      <th>nome comum</th>\n",
              "      <th>altura (m)</th>\n",
              "      <th>diâmetro (cm)</th>\n",
              "      <th>ataque por pragas</th>\n",
              "      <th>mortas</th>\n",
              "    </tr>\n",
              "  </thead>\n",
              "  <tbody>\n",
              "    <tr>\n",
              "      <th>a</th>\n",
              "      <td>plátano</td>\n",
              "      <td>18</td>\n",
              "      <td>30</td>\n",
              "      <td>True</td>\n",
              "      <td>0</td>\n",
              "    </tr>\n",
              "    <tr>\n",
              "      <th>b</th>\n",
              "      <td>araucária</td>\n",
              "      <td>25</td>\n",
              "      <td>40</td>\n",
              "      <td>True</td>\n",
              "      <td>0</td>\n",
              "    </tr>\n",
              "    <tr>\n",
              "      <th>c</th>\n",
              "      <td>eucalipto</td>\n",
              "      <td>28</td>\n",
              "      <td>35</td>\n",
              "      <td>False</td>\n",
              "      <td>0</td>\n",
              "    </tr>\n",
              "    <tr>\n",
              "      <th>d</th>\n",
              "      <td>pinus</td>\n",
              "      <td>22</td>\n",
              "      <td>36</td>\n",
              "      <td>False</td>\n",
              "      <td>0</td>\n",
              "    </tr>\n",
              "  </tbody>\n",
              "</table>\n",
              "</div>"
            ],
            "text/plain": [
              "  nome comum  altura (m)  diâmetro (cm) ataque por pragas  mortas\n",
              "a    plátano          18             30              True       0\n",
              "b  araucária          25             40              True       0\n",
              "c  eucalipto          28             35             False       0\n",
              "d      pinus          22             36             False       0"
            ]
          },
          "metadata": {
            "tags": []
          },
          "execution_count": 20
        }
      ]
    }
  ]
}